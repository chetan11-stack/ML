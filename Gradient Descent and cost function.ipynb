{
 "cells": [
  {
   "cell_type": "code",
   "execution_count": 1,
   "metadata": {},
   "outputs": [
    {
     "name": "stdout",
     "output_type": "stream",
     "text": [
      "m_curr 0.062 b_curr 0.018000000000000002 cost 89.0 iterations 0\n",
      "m_curr 0.122528 b_curr 0.035592000000000006 cost 84.881304 iterations 1\n",
      "m_curr 0.181618832 b_curr 0.052785648000000004 cost 80.955185108544 iterations 2\n",
      "m_curr 0.239306503808 b_curr 0.069590363712 cost 77.21263768455901 iterations 3\n",
      "m_curr 0.29562421854195203 b_curr 0.086015343961728 cost 73.64507722605434 iterations 4\n",
      "m_curr 0.35060439367025875 b_curr 0.10206956796255283 cost 70.2443206760065 iterations 5\n",
      "m_curr 0.40427867960173774 b_curr 0.11776180246460617 cost 67.00256764921804 iterations 6\n",
      "m_curr 0.4566779778357119 b_curr 0.13310060678206653 cost 63.912382537082294 iterations 7\n",
      "m_curr 0.5078324586826338 b_curr 0.14809433770148814 cost 60.966677449199324 iterations 8\n",
      "m_curr 0.5577715785654069 b_curr 0.16275115427398937 cost 58.15869595270883 iterations 9\n"
     ]
    }
   ],
   "source": [
    "import numpy as np\n",
    "import matplotlib.pyplot as plt\n",
    "def gradient_decent(x,y):\n",
    "    m_curr = b_curr = 0\n",
    "    iterations = 10\n",
    "    n= len(x)\n",
    "    learning_rate = 0.001\n",
    "    #plt.scatter(x,y,color = 'red',marker = '+',linewidths= '5')\n",
    "    for i in range (iterations):\n",
    "        y_predict = m_curr * x + b_curr\n",
    "        \n",
    "        cost = (1/n) * sum([val**2 for val in (y-y_predict)])\n",
    "        \n",
    "        #plt.plot(x,y_predict,color='blue')\n",
    "        \n",
    "        md = -(2/n) * sum(x*(y-y_predict))\n",
    "        bd = -(2/n) * sum(y - y_predict)\n",
    "        \n",
    "        m_curr = m_curr - learning_rate * md\n",
    "        b_curr = b_curr - learning_rate * bd\n",
    "        \n",
    "        print(\"m_curr\",m_curr,\"b_curr\",b_curr,\"cost\",cost,\"iterations\",i)\n",
    "    pass\n",
    "\n",
    "\n",
    "x = np.array([1,2,3,4,5])\n",
    "y = np.array([5,7,9,11,13])\n",
    "\n",
    "\n",
    "gradient_decent(x,y)"
   ]
  },
  {
   "cell_type": "code",
   "execution_count": null,
   "metadata": {},
   "outputs": [],
   "source": []
  }
 ],
 "metadata": {
  "kernelspec": {
   "display_name": "Python 3",
   "language": "python",
   "name": "python3"
  },
  "language_info": {
   "codemirror_mode": {
    "name": "ipython",
    "version": 3
   },
   "file_extension": ".py",
   "mimetype": "text/x-python",
   "name": "python",
   "nbconvert_exporter": "python",
   "pygments_lexer": "ipython3",
   "version": "3.7.6"
  }
 },
 "nbformat": 4,
 "nbformat_minor": 4
}
